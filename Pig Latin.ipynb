{
 "cells": [
  {
   "cell_type": "markdown",
   "id": "d05cd4d1",
   "metadata": {},
   "source": [
    "# Pig Latin"
   ]
  },
  {
   "cell_type": "code",
   "execution_count": null,
   "id": "5307e99e",
   "metadata": {},
   "outputs": [],
   "source": [
    "word = input('Enter a word: ')\n",
    "flag = 0\n",
    "size = len(word)\n",
    "#First it checks if the word contains white space or not. If it does flag = 1\n",
    "for i in range(size):\n",
    "    if(word[i] == ' '):\n",
    "        flag = 1\n",
    "\n",
    "#By assigning word to list it will be more easier to solve this question\n",
    "lst = list(word)\n",
    "#checks if the word starts with vowels. If it is then flag = 2\n",
    "if flag == 0:\n",
    "    if(word[0] == 'a' or word[0] == 'e' or word[0] == 'i' or word[0] == 'o' or word[0] == 'u'):\n",
    "        flag = 2\n",
    "\n",
    "#If the word start with consonants it will keep on appending the letter if the vowel is shown then it will break\n",
    "if flag == 0:\n",
    "    for i in range(size):\n",
    "        if(word[i] == 'a' or word[i] == 'e' or word[i] == 'i' or word[i] == 'o' or word[i] == 'u'):\n",
    "            break\n",
    "        \n",
    "        else:\n",
    "            lst.pop(0)\n",
    "            lst.append(word[i])\n",
    "\n",
    "#Finialy printing the result\n",
    "if flag == 1:\n",
    "    print(\"Invalid Input\")\n",
    "elif flag == 2:\n",
    "    lst.append(\"-yay\")\n",
    "    print(*lst, sep ='')\n",
    "else:\n",
    "    lst.append(\"-ly\")\n",
    "    print(*lst, sep = '')"
   ]
  }
 ],
 "metadata": {
  "kernelspec": {
   "display_name": "Python 3",
   "language": "python",
   "name": "python3"
  },
  "language_info": {
   "codemirror_mode": {
    "name": "ipython",
    "version": 3
   },
   "file_extension": ".py",
   "mimetype": "text/x-python",
   "name": "python",
   "nbconvert_exporter": "python",
   "pygments_lexer": "ipython3",
   "version": "3.8.8"
  }
 },
 "nbformat": 4,
 "nbformat_minor": 5
}
